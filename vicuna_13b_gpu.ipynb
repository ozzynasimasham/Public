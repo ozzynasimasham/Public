{
  "nbformat": 4,
  "nbformat_minor": 0,
  "metadata": {
    "colab": {
      "provenance": [],
      "include_colab_link": true
    },
    "kernelspec": {
      "name": "python3",
      "display_name": "Python 3"
    },
    "language_info": {
      "name": "python"
    },
    "accelerator": "GPU",
    "gpuClass": "standard"
  },
  "cells": [
    {
      "cell_type": "markdown",
      "metadata": {
        "id": "view-in-github",
        "colab_type": "text"
      },
      "source": [
        "<a href=\"https://colab.research.google.com/github/ozzynasimasham/Public/blob/main/vicuna_13b_gpu.ipynb\" target=\"_parent\"><img src=\"https://colab.research.google.com/assets/colab-badge.svg\" alt=\"Open In Colab\"/></a>"
      ]
    },
    {
      "cell_type": "markdown",
      "source": [
        "First, let's install the FastChat (Vicuna) repository."
      ],
      "metadata": {
        "id": "KJwsonNSg0Ki"
      }
    },
    {
      "cell_type": "code",
      "execution_count": null,
      "metadata": {
        "id": "_LPmr_8e-zf7"
      },
      "outputs": [],
      "source": [
        "!git clone https://github.com/thisserand/FastChat.git\n",
        "%cd FastChat\n",
        "!pip install -e ."
      ]
    },
    {
      "cell_type": "markdown",
      "source": [
        "Second, we will install the GPTQ-for-LLaMA repository which allows us to use GPTQ quantised models."
      ],
      "metadata": {
        "id": "L6BAFoMDg9XR"
      }
    },
    {
      "cell_type": "code",
      "source": [
        "!mkdir repositories\n",
        "%cd repositories\n",
        "!git clone https://github.com/oobabooga/GPTQ-for-LLaMa.git -b cuda\n",
        "%cd GPTQ-for-LLaMa\n",
        "!python setup_cuda.py install\n",
        "%cd ../.."
      ],
      "metadata": {
        "id": "jyfx1xgw-6Dd"
      },
      "execution_count": null,
      "outputs": []
    },
    {
      "cell_type": "markdown",
      "source": [
        "Okay, now we will download the quantised model weights."
      ],
      "metadata": {
        "id": "awYGokkLhMRx"
      }
    },
    {
      "cell_type": "code",
      "source": [
        "!python download-model.py anon8231489123/vicuna-13b-GPTQ-4bit-128g"
      ],
      "metadata": {
        "id": "DaXDRfxW_AMt"
      },
      "execution_count": null,
      "outputs": []
    },
    {
      "cell_type": "markdown",
      "source": [
        "To be able to run the web UI inside Colab we need virtual terminals. For this, we will use the screen library."
      ],
      "metadata": {
        "id": "26jSC2H2hTvE"
      }
    },
    {
      "cell_type": "code",
      "source": [
        "!sudo apt-get install screen"
      ],
      "metadata": {
        "id": "OtnynrQ7_Ex8"
      },
      "execution_count": null,
      "outputs": []
    },
    {
      "cell_type": "markdown",
      "source": [
        "Launch the controler service in the background."
      ],
      "metadata": {
        "id": "4DYLjOJlhdKB"
      }
    },
    {
      "cell_type": "code",
      "source": [
        "!screen -S controller -dm python -m fastchat.serve.controller --host \"127.0.0.1\""
      ],
      "metadata": {
        "id": "2733J4ri_FXw"
      },
      "execution_count": null,
      "outputs": []
    },
    {
      "cell_type": "markdown",
      "source": [
        "Launch the model worker in the background."
      ],
      "metadata": {
        "id": "Th8dvPf6hhQL"
      }
    },
    {
      "cell_type": "code",
      "source": [
        "!screen -S model_worker -dm python -m fastchat.serve.model_worker --model-path anon8231489123/vicuna-13b-GPTQ-4bit-128g --model-name vicuna-gptq --wbits 4 --groupsize 128 --host \"127.0.0.1\" --worker-address \"http://127.0.0.1:21002\" --controller-address \"http://127.0.0.1:21001\""
      ],
      "metadata": {
        "id": "ScpIxPq8AfRE"
      },
      "execution_count": null,
      "outputs": []
    },
    {
      "cell_type": "markdown",
      "source": [
        "Wait a little bit (~30 seconds) before you run this cell to make sure that the model worker is up and running. Using the public URL you can interact with the Vicuna model."
      ],
      "metadata": {
        "id": "TbKeBsebEBkj"
      }
    },
    {
      "cell_type": "code",
      "source": [
        "!python -m fastchat.serve.gradio_web_server --controller-url \"http://127.0.0.1:21001\" --share"
      ],
      "metadata": {
        "id": "p1G8Gh04AsRT"
      },
      "execution_count": null,
      "outputs": []
    }
  ]
}